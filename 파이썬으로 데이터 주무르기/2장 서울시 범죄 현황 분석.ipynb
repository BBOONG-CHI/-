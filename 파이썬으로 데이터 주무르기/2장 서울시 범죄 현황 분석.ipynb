{
 "cells": [
  {
   "cell_type": "markdown",
   "metadata": {},
   "source": [
    "# 강남 3구는 안전한가?"
   ]
  },
  {
   "cell_type": "markdown",
   "metadata": {},
   "source": [
    "### 1-1 데이터 정리하기"
   ]
  },
  {
   "cell_type": "code",
   "execution_count": 4,
   "metadata": {},
   "outputs": [],
   "source": [
    "import googlemaps\n",
    "import numpy as np\n",
    "import pandas as pd"
   ]
  },
  {
   "cell_type": "code",
   "execution_count": 2,
   "metadata": {},
   "outputs": [],
   "source": [
    "gmaps_key = \"내 구글키 넣기\"\n",
    "gmaps = googlemaps.Client(gmaps_key)"
   ]
  },
  {
   "cell_type": "code",
   "execution_count": 3,
   "metadata": {},
   "outputs": [
    {
     "data": {
      "text/plain": [
       "[{'address_components': [{'long_name': '２７',\n",
       "    'short_name': '２７',\n",
       "    'types': ['premise']},\n",
       "   {'long_name': '수표로',\n",
       "    'short_name': '수표로',\n",
       "    'types': ['political', 'sublocality', 'sublocality_level_4']},\n",
       "   {'long_name': '중구',\n",
       "    'short_name': '중구',\n",
       "    'types': ['political', 'sublocality', 'sublocality_level_1']},\n",
       "   {'long_name': '서울특별시',\n",
       "    'short_name': '서울특별시',\n",
       "    'types': ['administrative_area_level_1', 'political']},\n",
       "   {'long_name': '대한민국',\n",
       "    'short_name': 'KR',\n",
       "    'types': ['country', 'political']},\n",
       "   {'long_name': '100-032',\n",
       "    'short_name': '100-032',\n",
       "    'types': ['postal_code']}],\n",
       "  'formatted_address': '대한민국 서울특별시 중구 수표로 27',\n",
       "  'geometry': {'location': {'lat': 37.56361709999999, 'lng': 126.9896517},\n",
       "   'location_type': 'ROOFTOP',\n",
       "   'viewport': {'northeast': {'lat': 37.5649660802915,\n",
       "     'lng': 126.9910006802915},\n",
       "    'southwest': {'lat': 37.5622681197085, 'lng': 126.9883027197085}}},\n",
       "  'partial_match': True,\n",
       "  'place_id': 'ChIJc-9q5uSifDURLhQmr5wkXmc',\n",
       "  'plus_code': {'compound_code': 'HX7Q+CV 대한민국 서울특별시',\n",
       "   'global_code': '8Q98HX7Q+CV'},\n",
       "  'types': ['establishment', 'point_of_interest', 'police']}]"
      ]
     },
     "execution_count": 3,
     "metadata": {},
     "output_type": "execute_result"
    }
   ],
   "source": [
    "gmaps.geocode('서울중부경찰서', language='ko')"
   ]
  },
  {
   "cell_type": "code",
   "execution_count": null,
   "metadata": {},
   "outputs": [],
   "source": []
  }
 ],
 "metadata": {
  "kernelspec": {
   "display_name": "Python 3",
   "language": "python",
   "name": "python3"
  },
  "language_info": {
   "codemirror_mode": {
    "name": "ipython",
    "version": 3
   },
   "file_extension": ".py",
   "mimetype": "text/x-python",
   "name": "python",
   "nbconvert_exporter": "python",
   "pygments_lexer": "ipython3",
   "version": "3.7.3"
  }
 },
 "nbformat": 4,
 "nbformat_minor": 2
}
